{
 "cells": [
  {
   "cell_type": "code",
   "execution_count": null,
   "metadata": {},
   "outputs": [],
   "source": [
    "# First we import the developer keys\n",
    "\n",
    "file_keys = \"D:\\\\Documents\\\\JupyterNB\\\\TwitterPython\\\\keys.txt\"\n",
    "\n",
    "with open(file_keys, 'r') as f:\n",
    "    CONSUMER_KEY = f.readline().strip()\n",
    "    CONSUMER_SECRET = f.readline().strip()\n",
    "    ACCESS_TOKEN = f.readline().strip()\n",
    "    ACCESS_TOKEN_SECRET = f.readline().strip()\n",
    "#     print(consumer_key)\n",
    "#     print(consumer_secret)\n",
    "#     print(access_token)\n",
    "#     print(access_token_secret)\n",
    "\n",
    "# (API key)\n",
    "# (API secret key)\n",
    "# (Access token)\n",
    "# (Access token secret)"
   ]
  },
  {
   "cell_type": "code",
   "execution_count": null,
   "metadata": {},
   "outputs": [],
   "source": [
    "# options\n",
    "verbose = True # to show tweets while deleting\n",
    "test_mode = True # If TRUE then will not delete"
   ]
  },
  {
   "cell_type": "code",
   "execution_count": null,
   "metadata": {},
   "outputs": [],
   "source": [
    "# Importacao inicial e definicao de algumas classes\n",
    "\n",
    "from tweepy import OAuthHandler, API, Cursor\n",
    "from datetime import datetime, timedelta\n"
   ]
  },
  {
   "cell_type": "code",
   "execution_count": null,
   "metadata": {},
   "outputs": [],
   "source": [
    "# Autenticacao e captura da TL\n",
    "auth = OAuthHandler(CONSUMER_KEY, CONSUMER_SECRET)\n",
    "auth.set_access_token(ACCESS_TOKEN, ACCESS_TOKEN_SECRET)\n",
    "api = API(auth)\n",
    "\n",
    "# Buscando um usuario especifico e imprindo o nome e número de seguidores\n",
    "user = api.get_user('vantonini')\n",
    "print(user.name)\n",
    "print(user.followers_count)"
   ]
  },
  {
   "cell_type": "code",
   "execution_count": null,
   "metadata": {},
   "outputs": [],
   "source": [
    "# Here we can set the amount of days one wants to keep\n",
    "cutoff_date = datetime.utcnow() - timedelta(days=60)"
   ]
  },
  {
   "cell_type": "code",
   "execution_count": null,
   "metadata": {},
   "outputs": [],
   "source": [
    "# Then we go through each twitter verifying its created date and then deleting if it is older than our cutoff_date\n",
    "timeline = Cursor(api.user_timeline).items()\n",
    "for tweet in timeline:\n",
    "        # where tweets are not in save list and older than cutoff date\n",
    "        if tweet.created_at < cutoff_date:\n",
    "            if verbose:\n",
    "                print(\"Deleting {}: [{}] {}\".format(tweet.id, tweet.created_at, tweet.text))\n",
    "            if not test_mode:\n",
    "                api.destroy_status(tweet.id)"
   ]
  }
 ],
 "metadata": {
  "kernelspec": {
   "display_name": "Python 3",
   "language": "python",
   "name": "python3"
  },
  "language_info": {
   "codemirror_mode": {
    "name": "ipython",
    "version": 3
   },
   "file_extension": ".py",
   "mimetype": "text/x-python",
   "name": "python",
   "nbconvert_exporter": "python",
   "pygments_lexer": "ipython3",
   "version": "3.6.6"
  }
 },
 "nbformat": 4,
 "nbformat_minor": 2
}
